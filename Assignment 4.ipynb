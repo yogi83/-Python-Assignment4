{
 "cells": [
  {
   "cell_type": "code",
   "execution_count": null,
   "metadata": {},
   "outputs": [],
   "source": [
    "# triangle function to calculate the area using heron formula\n",
    "\n",
    "class tr_sides():\n",
    "    '''traingle class where we have to define sides'''\n",
    "    def __init__(self, a,b,c):\n",
    "        self.a = a\n",
    "        self.b = b\n",
    "        self.c = c\n",
    "        \n",
    "a = int(input(\"a = \"))\n",
    "b = int(input(\"b = \"))\n",
    "c = int(input(\"c = \"))\n",
    "        \n",
    "class tr_area(tr_sides):\n",
    "    '''a subclass of tr_sides class , where we calculate the area of triangle'''\n",
    "    def __init__(self,a,b,c):\n",
    "        super(tr_area,self).__init__(a,b,c) # if we use self as here as parameter , error throws\n",
    "        #tr_sides.__init__(self,a,b,c), it can also be used but here we have to use self also within init() as parameter\n",
    "        \n",
    "    def area(self):\n",
    "        s = (self.a+self.b+self.c)/2\n",
    "        return(s*(s-self.a)*(s-self.b)*(s-self.c) ** 0.5)\n",
    "        # return (ar) ,  it will not print your area, so you have to use print command\n",
    "        \n",
    "    \n",
    "tr1 = tr_area(3,4,5)\n",
    "tr1.area()"
   ]
  },
  {
   "cell_type": "code",
   "execution_count": null,
   "metadata": {},
   "outputs": [],
   "source": [
    "#Write a function filter_long_words() that takes a list of words and an integer n and returns \n",
    "# the list of words that are longer than n\n",
    "\n",
    "def filter_long_words(l1,n):\n",
    "    if list(l1):  # we can't also 'if l1 is list', it willn't throw error but also not work properly\n",
    "        l2 = []   #  l2 = list()  , can also be used\n",
    "        for i in l1:\n",
    "            if len(i) > n: # len func can be used on strings as i is a string here\n",
    "                l2.append(i)\n",
    "        return l2\n",
    "filter_long_words([\"Ravi\", \"Sohan\", \"Ramakrishnan\", \"bala\", \"hritik\"], 4)   "
   ]
  },
  {
   "cell_type": "code",
   "execution_count": null,
   "metadata": {},
   "outputs": [],
   "source": [
    "# 2.1 Write a Python program using function concept that maps list of words into a list of integers \n",
    "# representing the lengths of the corresponding words.\n",
    "\n",
    "def length_of_list_elements(L1):\n",
    "    if list(L1):\n",
    "        L2 = []  # L2 = list() , can also be used to create an empty list\n",
    "        for i in L1:\n",
    "            L2.append(len(i))\n",
    "        return(L2)\n",
    "    \n",
    "length_of_list_elements([\"ab\",\"cde\",\"erty\"])"
   ]
  },
  {
   "cell_type": "code",
   "execution_count": null,
   "metadata": {},
   "outputs": [],
   "source": [
    "def check_vowel(v):\n",
    "    if str(v):\n",
    "        if len(v) ==1:   # we can't use this -- if (str(v) & len(v)==1): , bacause one condition is string & other is integer\n",
    "            if v in [\"a\",\"e\",\"i\",\"o\",\"u\"]:\n",
    "                return True\n",
    "            else :\n",
    "                return False\n",
    "        \n",
    "check_vowel(\"r\")\n",
    "\n",
    "check_vowel(\"i\")"
   ]
  }
 ],
 "metadata": {
  "kernelspec": {
   "display_name": "Python 3",
   "language": "python",
   "name": "python3"
  },
  "language_info": {
   "codemirror_mode": {
    "name": "ipython",
    "version": 3
   },
   "file_extension": ".py",
   "mimetype": "text/x-python",
   "name": "python",
   "nbconvert_exporter": "python",
   "pygments_lexer": "ipython3",
   "version": "3.6.8"
  }
 },
 "nbformat": 4,
 "nbformat_minor": 2
}
